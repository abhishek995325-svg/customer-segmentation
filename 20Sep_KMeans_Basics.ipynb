{
 "cells": [
  {
   "cell_type": "markdown",
   "id": "92d8d085",
   "metadata": {},
   "source": [
    "### Clustering\n",
    "\n",
    "1)\tClustering identifies similarities between objects, which it groups according to those characteristics in common and which differentiate them from other groups of objects. These groups are known as \"clusters\".<br>\n",
    "2)\tClustering is framed in unsupervised learning; that is, for this type of algorithm we only have one set of input data (not labeled), about which we must obtain information, without previously knowing what the output will be.<br>\n",
    "3)<b>\tThere is no need to split the data in training and testing dataset.</b>\n"
   ]
  },
  {
   "cell_type": "markdown",
   "id": "2a3a3d89",
   "metadata": {},
   "source": [
    "#### Clustering can be categorised into the following categories\n",
    "1) Centroid based - KMeans<br>\n",
    "2) Density Based - DBSCAN (Density-based spatial clustering of applications with noise)<br>\n",
    "3) Hierarchical - Agglomerative Clustering"
   ]
  },
  {
   "cell_type": "code",
   "execution_count": null,
   "id": "af885801",
   "metadata": {},
   "outputs": [],
   "source": [
    "# customer => age, income, expense, saving, income, etc\n",
    "\n",
    "# G1(0) : high income,low expense \n",
    "# G2(1) : high income,high expense\n",
    "# G3(2) : low income,high expense\n",
    "# G4(3) : low income,low expense\n"
   ]
  },
  {
   "cell_type": "code",
   "execution_count": null,
   "id": "854cf094",
   "metadata": {},
   "outputs": [],
   "source": []
  },
  {
   "cell_type": "markdown",
   "id": "66873928",
   "metadata": {},
   "source": [
    "### KMeans\n",
    "\n",
    "Where K = number of clusters\n",
    "\n",
    "1)\tK-means algorithm is an iterative algorithm that tries to partition the dataset into<b> K pre-defined non-overlapping subgroups (clusters)</b> where each data point belongs to only one group<br>\n",
    "2)\tIt tries to make the intra-cluster data points as similar as possible while also keeping the clusters as different (far) as possible. It assigns data points to a cluster such that the<b> sum of the squared distance between the data points and the cluster’s centroid (arithmetic mean of all the data points that belong to that cluster) is at the minimum.</b> The less variation we have within clusters, the more homogeneous (similar) the data points are within the same cluster.<br>\n",
    "3)\tSince clustering algorithms including KMeans which use distance-based measurements to determine the similarity between data points, it’s recommended to standardize or scale the data since almost always the features in any dataset would have different units of measurements for instance as age vs. income.<br>\n"
   ]
  },
  {
   "cell_type": "markdown",
   "id": "1482797f",
   "metadata": {},
   "source": [
    "#### Distance Metrics\n",
    "<pre>\n",
    "Distance between A(x1,y1) and B(x2,y2) is computed as \n",
    "a) Minkowski Distance  = ((|x2-x1|)^(p) + (|y2-y1|)^(p))^(1/p), p is an int\n",
    "b) Euclidean Distance = (x2-x1)^(2) + (y2-y1)^(2)^(1/2)\n",
    "c) Manhattan Distance = (|x2-x1| + |y2-y1|)\n",
    "Put p=2 in Minkowski Distance => Euclidean Distance\n",
    "Put p=1 in Minkowski Distance => Manhattan Distance"
   ]
  },
  {
   "cell_type": "code",
   "execution_count": null,
   "id": "dade4485",
   "metadata": {},
   "outputs": [],
   "source": []
  },
  {
   "cell_type": "markdown",
   "id": "911d7e59",
   "metadata": {},
   "source": [
    "### K-Means Algorithm\n",
    "\n",
    "1) Specify number of clusters K.<br>\n",
    "2) Initialize centroids by first shuffling the dataset and then randomly selecting K data points for the centroids without replacement.<br>\n",
    "4) Compute the sum of the squared distance between each of the data points and all the centroids.<br>\n",
    "5) Assign each data point to the closest cluster (centroid) based on its nearest distance<br>\n",
    "6) Compute the centroids for the clusters by taking the average of the all data points that belong to each cluster.<br>\n",
    "7) Repeat steps 4,5 and 6 until there is no change in the centroids."
   ]
  },
  {
   "cell_type": "markdown",
   "id": "2b12e79b",
   "metadata": {},
   "source": [
    "<img src=\"kmeans1.png\">"
   ]
  },
  {
   "cell_type": "code",
   "execution_count": 1,
   "id": "0edd8efd",
   "metadata": {},
   "outputs": [],
   "source": [
    "import pandas as pd\n",
    "import numpy as np\n",
    "import matplotlib.pyplot as plt\n",
    "import seaborn as sns"
   ]
  },
  {
   "cell_type": "code",
   "execution_count": 4,
   "id": "15545f06",
   "metadata": {},
   "outputs": [
    {
     "data": {
      "text/plain": [
       "(200, 2)"
      ]
     },
     "execution_count": 4,
     "metadata": {},
     "output_type": "execute_result"
    }
   ],
   "source": [
    "df = pd.DataFrame({'Age':np.random.randint(20,66,200),\n",
    "                  'Expesne': np.random.randint(5000,25000,200)})\n",
    "df.shape"
   ]
  },
  {
   "cell_type": "code",
   "execution_count": 11,
   "id": "20bdc0df",
   "metadata": {},
   "outputs": [
    {
     "data": {
      "text/html": [
       "<div>\n",
       "<style scoped>\n",
       "    .dataframe tbody tr th:only-of-type {\n",
       "        vertical-align: middle;\n",
       "    }\n",
       "\n",
       "    .dataframe tbody tr th {\n",
       "        vertical-align: top;\n",
       "    }\n",
       "\n",
       "    .dataframe thead th {\n",
       "        text-align: right;\n",
       "    }\n",
       "</style>\n",
       "<table border=\"1\" class=\"dataframe\">\n",
       "  <thead>\n",
       "    <tr style=\"text-align: right;\">\n",
       "      <th></th>\n",
       "      <th>Age</th>\n",
       "      <th>Expesne</th>\n",
       "      <th>Dist_k1</th>\n",
       "      <th>Dist_k2</th>\n",
       "      <th>Dist_k3</th>\n",
       "    </tr>\n",
       "  </thead>\n",
       "  <tbody>\n",
       "    <tr>\n",
       "      <th>0</th>\n",
       "      <td>26</td>\n",
       "      <td>17441</td>\n",
       "      <td>10986.000728</td>\n",
       "      <td>1320.136735</td>\n",
       "      <td>6549.110245</td>\n",
       "    </tr>\n",
       "    <tr>\n",
       "      <th>1</th>\n",
       "      <td>53</td>\n",
       "      <td>17820</td>\n",
       "      <td>11365.042279</td>\n",
       "      <td>1699.018835</td>\n",
       "      <td>6170.009806</td>\n",
       "    </tr>\n",
       "    <tr>\n",
       "      <th>2</th>\n",
       "      <td>39</td>\n",
       "      <td>19278</td>\n",
       "      <td>12823.011269</td>\n",
       "      <td>3157.005702</td>\n",
       "      <td>4712.066320</td>\n",
       "    </tr>\n",
       "    <tr>\n",
       "      <th>3</th>\n",
       "      <td>64</td>\n",
       "      <td>17990</td>\n",
       "      <td>11535.076463</td>\n",
       "      <td>1869.096573</td>\n",
       "      <td>6000.000000</td>\n",
       "    </tr>\n",
       "    <tr>\n",
       "      <th>4</th>\n",
       "      <td>40</td>\n",
       "      <td>21307</td>\n",
       "      <td>14852.010908</td>\n",
       "      <td>5186.002410</td>\n",
       "      <td>2683.107340</td>\n",
       "    </tr>\n",
       "  </tbody>\n",
       "</table>\n",
       "</div>"
      ],
      "text/plain": [
       "   Age  Expesne       Dist_k1      Dist_k2      Dist_k3\n",
       "0   26    17441  10986.000728  1320.136735  6549.110245\n",
       "1   53    17820  11365.042279  1699.018835  6170.009806\n",
       "2   39    19278  12823.011269  3157.005702  4712.066320\n",
       "3   64    17990  11535.076463  1869.096573  6000.000000\n",
       "4   40    21307  14852.010908  5186.002410  2683.107340"
      ]
     },
     "execution_count": 11,
     "metadata": {},
     "output_type": "execute_result"
    }
   ],
   "source": [
    "df.head()"
   ]
  },
  {
   "cell_type": "markdown",
   "id": "52ccd23f",
   "metadata": {},
   "source": [
    "### Assume K = 3 (Model selects initial centroids that are as far as posssible)"
   ]
  },
  {
   "cell_type": "code",
   "execution_count": 9,
   "id": "4502ca55",
   "metadata": {},
   "outputs": [],
   "source": [
    "K = 3\n",
    "# initial_centroid = df.sample(K)\n",
    "# initial_centroid\n",
    "k1 = [22,6455]\n",
    "k2 = [45,16121]\n",
    "k3 = [64,23990]"
   ]
  },
  {
   "cell_type": "code",
   "execution_count": 8,
   "id": "37147756",
   "metadata": {},
   "outputs": [
    {
     "data": {
      "text/html": [
       "<div>\n",
       "<style scoped>\n",
       "    .dataframe tbody tr th:only-of-type {\n",
       "        vertical-align: middle;\n",
       "    }\n",
       "\n",
       "    .dataframe tbody tr th {\n",
       "        vertical-align: top;\n",
       "    }\n",
       "\n",
       "    .dataframe thead th {\n",
       "        text-align: right;\n",
       "    }\n",
       "</style>\n",
       "<table border=\"1\" class=\"dataframe\">\n",
       "  <thead>\n",
       "    <tr style=\"text-align: right;\">\n",
       "      <th></th>\n",
       "      <th>Age</th>\n",
       "      <th>Expesne</th>\n",
       "    </tr>\n",
       "  </thead>\n",
       "  <tbody>\n",
       "    <tr>\n",
       "      <th>191</th>\n",
       "      <td>23</td>\n",
       "      <td>23684</td>\n",
       "    </tr>\n",
       "    <tr>\n",
       "      <th>17</th>\n",
       "      <td>38</td>\n",
       "      <td>10190</td>\n",
       "    </tr>\n",
       "    <tr>\n",
       "      <th>98</th>\n",
       "      <td>58</td>\n",
       "      <td>5529</td>\n",
       "    </tr>\n",
       "    <tr>\n",
       "      <th>107</th>\n",
       "      <td>61</td>\n",
       "      <td>9201</td>\n",
       "    </tr>\n",
       "    <tr>\n",
       "      <th>41</th>\n",
       "      <td>49</td>\n",
       "      <td>18411</td>\n",
       "    </tr>\n",
       "    <tr>\n",
       "      <th>54</th>\n",
       "      <td>45</td>\n",
       "      <td>19571</td>\n",
       "    </tr>\n",
       "    <tr>\n",
       "      <th>67</th>\n",
       "      <td>63</td>\n",
       "      <td>19349</td>\n",
       "    </tr>\n",
       "    <tr>\n",
       "      <th>32</th>\n",
       "      <td>47</td>\n",
       "      <td>5591</td>\n",
       "    </tr>\n",
       "    <tr>\n",
       "      <th>2</th>\n",
       "      <td>39</td>\n",
       "      <td>19278</td>\n",
       "    </tr>\n",
       "    <tr>\n",
       "      <th>192</th>\n",
       "      <td>54</td>\n",
       "      <td>23722</td>\n",
       "    </tr>\n",
       "    <tr>\n",
       "      <th>30</th>\n",
       "      <td>59</td>\n",
       "      <td>10148</td>\n",
       "    </tr>\n",
       "    <tr>\n",
       "      <th>70</th>\n",
       "      <td>59</td>\n",
       "      <td>12174</td>\n",
       "    </tr>\n",
       "    <tr>\n",
       "      <th>128</th>\n",
       "      <td>64</td>\n",
       "      <td>23990</td>\n",
       "    </tr>\n",
       "    <tr>\n",
       "      <th>71</th>\n",
       "      <td>50</td>\n",
       "      <td>14881</td>\n",
       "    </tr>\n",
       "    <tr>\n",
       "      <th>11</th>\n",
       "      <td>50</td>\n",
       "      <td>7342</td>\n",
       "    </tr>\n",
       "    <tr>\n",
       "      <th>152</th>\n",
       "      <td>34</td>\n",
       "      <td>24335</td>\n",
       "    </tr>\n",
       "    <tr>\n",
       "      <th>147</th>\n",
       "      <td>62</td>\n",
       "      <td>19579</td>\n",
       "    </tr>\n",
       "    <tr>\n",
       "      <th>72</th>\n",
       "      <td>37</td>\n",
       "      <td>5390</td>\n",
       "    </tr>\n",
       "    <tr>\n",
       "      <th>68</th>\n",
       "      <td>31</td>\n",
       "      <td>14159</td>\n",
       "    </tr>\n",
       "    <tr>\n",
       "      <th>145</th>\n",
       "      <td>50</td>\n",
       "      <td>5802</td>\n",
       "    </tr>\n",
       "  </tbody>\n",
       "</table>\n",
       "</div>"
      ],
      "text/plain": [
       "     Age  Expesne\n",
       "191   23    23684\n",
       "17    38    10190\n",
       "98    58     5529\n",
       "107   61     9201\n",
       "41    49    18411\n",
       "54    45    19571\n",
       "67    63    19349\n",
       "32    47     5591\n",
       "2     39    19278\n",
       "192   54    23722\n",
       "30    59    10148\n",
       "70    59    12174\n",
       "128   64    23990\n",
       "71    50    14881\n",
       "11    50     7342\n",
       "152   34    24335\n",
       "147   62    19579\n",
       "72    37     5390\n",
       "68    31    14159\n",
       "145   50     5802"
      ]
     },
     "execution_count": 8,
     "metadata": {},
     "output_type": "execute_result"
    }
   ],
   "source": [
    "df.sample(20)"
   ]
  },
  {
   "cell_type": "markdown",
   "id": "c52ef5fe",
   "metadata": {},
   "source": [
    "#### Distance between all data points and Cluster Centroids"
   ]
  },
  {
   "cell_type": "code",
   "execution_count": 10,
   "id": "b6c5ea5f",
   "metadata": {},
   "outputs": [
    {
     "data": {
      "text/html": [
       "<div>\n",
       "<style scoped>\n",
       "    .dataframe tbody tr th:only-of-type {\n",
       "        vertical-align: middle;\n",
       "    }\n",
       "\n",
       "    .dataframe tbody tr th {\n",
       "        vertical-align: top;\n",
       "    }\n",
       "\n",
       "    .dataframe thead th {\n",
       "        text-align: right;\n",
       "    }\n",
       "</style>\n",
       "<table border=\"1\" class=\"dataframe\">\n",
       "  <thead>\n",
       "    <tr style=\"text-align: right;\">\n",
       "      <th></th>\n",
       "      <th>Age</th>\n",
       "      <th>Expesne</th>\n",
       "      <th>Dist_k1</th>\n",
       "      <th>Dist_k2</th>\n",
       "      <th>Dist_k3</th>\n",
       "    </tr>\n",
       "  </thead>\n",
       "  <tbody>\n",
       "    <tr>\n",
       "      <th>0</th>\n",
       "      <td>26</td>\n",
       "      <td>17441</td>\n",
       "      <td>10986.000728</td>\n",
       "      <td>1320.136735</td>\n",
       "      <td>6549.110245</td>\n",
       "    </tr>\n",
       "    <tr>\n",
       "      <th>1</th>\n",
       "      <td>53</td>\n",
       "      <td>17820</td>\n",
       "      <td>11365.042279</td>\n",
       "      <td>1699.018835</td>\n",
       "      <td>6170.009806</td>\n",
       "    </tr>\n",
       "    <tr>\n",
       "      <th>2</th>\n",
       "      <td>39</td>\n",
       "      <td>19278</td>\n",
       "      <td>12823.011269</td>\n",
       "      <td>3157.005702</td>\n",
       "      <td>4712.066320</td>\n",
       "    </tr>\n",
       "    <tr>\n",
       "      <th>3</th>\n",
       "      <td>64</td>\n",
       "      <td>17990</td>\n",
       "      <td>11535.076463</td>\n",
       "      <td>1869.096573</td>\n",
       "      <td>6000.000000</td>\n",
       "    </tr>\n",
       "    <tr>\n",
       "      <th>4</th>\n",
       "      <td>40</td>\n",
       "      <td>21307</td>\n",
       "      <td>14852.010908</td>\n",
       "      <td>5186.002410</td>\n",
       "      <td>2683.107340</td>\n",
       "    </tr>\n",
       "    <tr>\n",
       "      <th>5</th>\n",
       "      <td>63</td>\n",
       "      <td>11026</td>\n",
       "      <td>4571.183873</td>\n",
       "      <td>5095.031796</td>\n",
       "      <td>12964.000039</td>\n",
       "    </tr>\n",
       "    <tr>\n",
       "      <th>6</th>\n",
       "      <td>41</td>\n",
       "      <td>17977</td>\n",
       "      <td>11522.015666</td>\n",
       "      <td>1856.004310</td>\n",
       "      <td>6013.043988</td>\n",
       "    </tr>\n",
       "    <tr>\n",
       "      <th>7</th>\n",
       "      <td>64</td>\n",
       "      <td>7777</td>\n",
       "      <td>1322.667003</td>\n",
       "      <td>8344.021632</td>\n",
       "      <td>16213.000000</td>\n",
       "    </tr>\n",
       "    <tr>\n",
       "      <th>8</th>\n",
       "      <td>55</td>\n",
       "      <td>13699</td>\n",
       "      <td>7244.075165</td>\n",
       "      <td>2422.020644</td>\n",
       "      <td>10291.003935</td>\n",
       "    </tr>\n",
       "    <tr>\n",
       "      <th>9</th>\n",
       "      <td>51</td>\n",
       "      <td>23796</td>\n",
       "      <td>17341.024249</td>\n",
       "      <td>7675.002345</td>\n",
       "      <td>194.435079</td>\n",
       "    </tr>\n",
       "  </tbody>\n",
       "</table>\n",
       "</div>"
      ],
      "text/plain": [
       "   Age  Expesne       Dist_k1      Dist_k2       Dist_k3\n",
       "0   26    17441  10986.000728  1320.136735   6549.110245\n",
       "1   53    17820  11365.042279  1699.018835   6170.009806\n",
       "2   39    19278  12823.011269  3157.005702   4712.066320\n",
       "3   64    17990  11535.076463  1869.096573   6000.000000\n",
       "4   40    21307  14852.010908  5186.002410   2683.107340\n",
       "5   63    11026   4571.183873  5095.031796  12964.000039\n",
       "6   41    17977  11522.015666  1856.004310   6013.043988\n",
       "7   64     7777   1322.667003  8344.021632  16213.000000\n",
       "8   55    13699   7244.075165  2422.020644  10291.003935\n",
       "9   51    23796  17341.024249  7675.002345    194.435079"
      ]
     },
     "execution_count": 10,
     "metadata": {},
     "output_type": "execute_result"
    }
   ],
   "source": [
    "df['Dist_k1'] = np.sqrt((df['Age'] - k1[0])**2 + (df['Expesne'] - k1[1])**2)\n",
    "df['Dist_k2'] = np.sqrt((df['Age'] - k2[0])**2 + (df['Expesne'] - k2[1])**2)\n",
    "df['Dist_k3'] = np.sqrt((df['Age'] - k3[0])**2 + (df['Expesne'] - k3[1])**2)\n",
    "df.head(10)"
   ]
  },
  {
   "cell_type": "code",
   "execution_count": 14,
   "id": "e0322e26-ec36-4e16-b3ab-1f814ea1ce04",
   "metadata": {},
   "outputs": [],
   "source": [
    "df['Cluster'] = df.iloc[:,2:].apply(np.argmin , axis = 1).values"
   ]
  },
  {
   "cell_type": "code",
   "execution_count": 15,
   "id": "674b9394-f741-44bf-85a6-050dd66de934",
   "metadata": {},
   "outputs": [
    {
     "data": {
      "text/plain": [
       "Cluster\n",
       "1    86\n",
       "0    62\n",
       "2    52\n",
       "Name: count, dtype: int64"
      ]
     },
     "execution_count": 15,
     "metadata": {},
     "output_type": "execute_result"
    }
   ],
   "source": [
    "df['Cluster'].value_counts()"
   ]
  },
  {
   "cell_type": "code",
   "execution_count": 17,
   "id": "ee41dead-4dba-4ea3-8d29-d18c0688c1ad",
   "metadata": {},
   "outputs": [
    {
     "name": "stdout",
     "output_type": "stream",
     "text": [
      "(62, 6) (86, 6) (52, 6)\n"
     ]
    }
   ],
   "source": [
    "c0 = df[df['Cluster'] == 0]\n",
    "c1 = df[df['Cluster'] == 1]\n",
    "c2 = df[df['Cluster'] == 2]\n",
    "print(c0.shape,c1.shape,c2.shape)"
   ]
  },
  {
   "cell_type": "code",
   "execution_count": 18,
   "id": "149683a4-2a5f-4968-ab35-4808e52f0ab4",
   "metadata": {},
   "outputs": [
    {
     "name": "stdout",
     "output_type": "stream",
     "text": [
      "[np.float64(40.91935483870968), np.float64(8081.354838709677)]\n",
      "[np.float64(43.651162790697676), np.float64(15671.523255813954)]\n",
      "[np.float64(39.73076923076923), np.float64(22965.76923076923)]\n"
     ]
    }
   ],
   "source": [
    "k1_new = [c0['Age'].mean() , c0['Expesne'].mean()]\n",
    "k2_new = [c1['Age'].mean() , c1['Expesne'].mean()]\n",
    "k3_new = [c2['Age'].mean() , c2['Expesne'].mean()]\n",
    "print(k1_new)\n",
    "print(k2_new)\n",
    "print(k3_new)"
   ]
  },
  {
   "cell_type": "code",
   "execution_count": 19,
   "id": "b7746a2f-bb2d-4682-90ad-a6457055b2a2",
   "metadata": {},
   "outputs": [],
   "source": [
    "from sklearn.cluster import KMeans"
   ]
  },
  {
   "cell_type": "code",
   "execution_count": 20,
   "id": "214a3ab7-6a42-428f-b4d1-b67e7f6957e6",
   "metadata": {},
   "outputs": [],
   "source": [
    "model = KMeans(n_clusters=4,init='k-means++')\n",
    "# model.fit(x)"
   ]
  },
  {
   "cell_type": "code",
   "execution_count": null,
   "id": "48f17734-aed8-4edb-b7b4-c1d8dbcd2f9c",
   "metadata": {},
   "outputs": [],
   "source": []
  },
  {
   "cell_type": "code",
   "execution_count": null,
   "id": "88a3d3af-6b12-40b3-aafe-7b03387d3138",
   "metadata": {},
   "outputs": [],
   "source": []
  },
  {
   "cell_type": "code",
   "execution_count": null,
   "id": "83460302-a29d-459a-9d4e-8438134ee545",
   "metadata": {},
   "outputs": [],
   "source": []
  },
  {
   "cell_type": "code",
   "execution_count": null,
   "id": "449bd56e-cdeb-403a-b7aa-f88a11653152",
   "metadata": {},
   "outputs": [],
   "source": []
  },
  {
   "cell_type": "code",
   "execution_count": null,
   "id": "87249f94-6a41-4faa-825c-7f34e194ea60",
   "metadata": {},
   "outputs": [],
   "source": []
  },
  {
   "cell_type": "code",
   "execution_count": 19,
   "id": "25546cc8",
   "metadata": {},
   "outputs": [
    {
     "name": "stdout",
     "output_type": "stream",
     "text": [
      "i 0\n",
      "60.0\n",
      "i 1\n",
      "56.0\n"
     ]
    }
   ],
   "source": [
    "for i,j in df.iloc[:2,:].iterrows():\n",
    "    print('i',i) # i = Index\n",
    "#     print('j',j,type(j)) # j = Series\n",
    "    print(j['Age'])"
   ]
  },
  {
   "cell_type": "code",
   "execution_count": 23,
   "id": "7602f511",
   "metadata": {},
   "outputs": [],
   "source": [
    "clusters =  []\n",
    "for i,j in df.iterrows():\n",
    "    x = j[['Dist_k1','Dist_k2','Dist_k3']].min()\n",
    "    if x == j['Dist_k1']:\n",
    "        clusters.append('C1')\n",
    "    elif x == j['Dist_k2']:\n",
    "        clusters.append('C2')\n",
    "    else:\n",
    "        clusters.append('C3')"
   ]
  },
  {
   "cell_type": "markdown",
   "id": "66c10279",
   "metadata": {},
   "source": [
    "#### Iteration - 2"
   ]
  },
  {
   "cell_type": "code",
   "execution_count": 29,
   "id": "0a77ab8b",
   "metadata": {},
   "outputs": [],
   "source": [
    "k1 = k1_new\n",
    "k2 = k2_new\n",
    "k3 = k3_new"
   ]
  },
  {
   "cell_type": "code",
   "execution_count": null,
   "id": "bed2e604",
   "metadata": {},
   "outputs": [],
   "source": []
  },
  {
   "cell_type": "markdown",
   "id": "e9e10196",
   "metadata": {},
   "source": [
    "#### KMeans using Library"
   ]
  },
  {
   "cell_type": "code",
   "execution_count": 30,
   "id": "9acf52d4",
   "metadata": {},
   "outputs": [],
   "source": [
    "from sklearn.cluster import KMeans"
   ]
  },
  {
   "cell_type": "code",
   "execution_count": null,
   "id": "6a4af4aa",
   "metadata": {},
   "outputs": [],
   "source": [
    "km = KMeans(n_clusters=5,init='k-means++')\n",
    "# km.fit(x)\n",
    "\n",
    "# k-means++ ensures that initial cluster centroids are well separated"
   ]
  },
  {
   "cell_type": "code",
   "execution_count": null,
   "id": "2da61694",
   "metadata": {},
   "outputs": [],
   "source": []
  },
  {
   "cell_type": "markdown",
   "id": "ac7b77f7",
   "metadata": {},
   "source": [
    "### How to determine the optimal number of clusters?\n",
    "\n",
    "#### 1) Elbow Method<br>\n",
    "a) It is a plot between WCSS (Within Cluster Sum of Squares) on y-axis and number of clusters of x-axis.<br>\n",
    "b) WCSS - It is sum of squared distance between a data point and its closest cluster centroid computed for all the data points (that may even belong to different clusters)\n",
    "\n",
    "\n",
    "#### 2) Silhouette Score"
   ]
  },
  {
   "cell_type": "code",
   "execution_count": null,
   "id": "6d601d78",
   "metadata": {},
   "outputs": [],
   "source": [
    "# Davies Bouldinin Score"
   ]
  }
 ],
 "metadata": {
  "kernelspec": {
   "display_name": "Python [conda env:base] *",
   "language": "python",
   "name": "conda-base-py"
  },
  "language_info": {
   "codemirror_mode": {
    "name": "ipython",
    "version": 3
   },
   "file_extension": ".py",
   "mimetype": "text/x-python",
   "name": "python",
   "nbconvert_exporter": "python",
   "pygments_lexer": "ipython3",
   "version": "3.13.5"
  }
 },
 "nbformat": 4,
 "nbformat_minor": 5
}
